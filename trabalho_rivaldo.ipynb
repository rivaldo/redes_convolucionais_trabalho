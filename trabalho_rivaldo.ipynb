{
 "cells": [
  {
   "cell_type": "code",
   "execution_count": 1,
   "metadata": {},
   "outputs": [
    {
     "name": "stderr",
     "output_type": "stream",
     "text": [
      "Cloning into 'imagens_dataset'...\n",
      "Updating files:  88% (259/293)\n",
      "Updating files:  89% (261/293)\n",
      "Updating files:  90% (264/293)\n",
      "Updating files:  91% (267/293)\n",
      "Updating files:  92% (270/293)\n",
      "Updating files:  93% (273/293)\n",
      "Updating files:  94% (276/293)\n",
      "Updating files:  95% (279/293)\n",
      "Updating files:  96% (282/293)\n",
      "Updating files:  97% (285/293)\n",
      "Updating files:  98% (288/293)\n",
      "Updating files:  99% (291/293)\n",
      "Updating files: 100% (293/293)\n",
      "Updating files: 100% (293/293), done.\n"
     ]
    }
   ],
   "source": [
    "!git clone https://github.com/rivaldo/imagens_dataset.git"
   ]
  },
  {
   "attachments": {},
   "cell_type": "markdown",
   "metadata": {},
   "source": [
    "### Colocando todos os imports em um só local."
   ]
  },
  {
   "cell_type": "code",
   "execution_count": 2,
   "metadata": {},
   "outputs": [],
   "source": [
    "from __future__ import print_function, division\n",
    "import torch\n",
    "import torch.nn as nn\n",
    "import torch.optim as optim\n",
    "from torch.optim import lr_scheduler\n",
    "import torchvision\n",
    "from torchvision import datasets, models, transforms\n",
    "import matplotlib.pyplot as plt\n",
    "import numpy as np\n",
    "import time\n",
    "import copy\n",
    "import os\n",
    "import shutil\n",
    "import re"
   ]
  },
  {
   "cell_type": "code",
   "execution_count": 3,
   "metadata": {},
   "outputs": [
    {
     "name": "stdout",
     "output_type": "stream",
     "text": [
      "Diretório criado com sucesso %s \n"
     ]
    }
   ],
   "source": [
    "base_dir = \"imagens_dataset\"\n",
    "try:\n",
    "    os.makedirs(\"imagens_estudo\")\n",
    "except OSError:\n",
    "    print (\"Falha ao criar diretório %s falhou\")\n",
    "else:\n",
    "    print (\"Diretório criado com sucesso %s \")\n",
    "dataset_dir = \"imagens_/train\""
   ]
  },
  {
   "cell_type": "code",
   "execution_count": 4,
   "metadata": {},
   "outputs": [],
   "source": [
    "# Criar diretórios de treinamento.\n",
    "files = os.listdir(base_dir)"
   ]
  },
  {
   "attachments": {},
   "cell_type": "markdown",
   "metadata": {},
   "source": [
    "#### Mover todas as imagens para os respectivos diretorios. "
   ]
  },
  {
   "cell_type": "code",
   "execution_count": 5,
   "metadata": {},
   "outputs": [],
   "source": [
    "def train_maker(name):\n",
    "  try:\n",
    "      path = f\"{base_dir}/train/{name}\"\n",
    "      os.makedirs(path, exist_ok=True)\n",
    "  except OSError:\n",
    "      print (\"Creation of the directory failed\")\n",
    "  else:\n",
    "      print (\"Successfully created the directory\")\n",
    "  print(\"here\")\n",
    "  train_dir = f\"{base_dir}/train/{name}\"\n",
    "  print(train_dir)\n",
    "  files = os.listdir(dataset_dir)\n",
    "  #print(files)\n",
    "  \n",
    "  for f in files:\n",
    "        search_object = re.search(name.lower(), f)\n",
    "        print(search_object)\n",
    "        if search_object:\n",
    "          shutil.move(f'{dataset_dir}/{f}', train_dir)\n"
   ]
  },
  {
   "cell_type": "code",
   "execution_count": 6,
   "metadata": {},
   "outputs": [
    {
     "name": "stdout",
     "output_type": "stream",
     "text": [
      "Successfully created the directory\n",
      "here\n",
      "imagens_dataset/train/ave\n"
     ]
    },
    {
     "ename": "FileNotFoundError",
     "evalue": "[WinError 3] O sistema não pode encontrar o caminho especificado: 'imagens/train'",
     "output_type": "error",
     "traceback": [
      "\u001b[1;31m---------------------------------------------------------------------------\u001b[0m",
      "\u001b[1;31mFileNotFoundError\u001b[0m                         Traceback (most recent call last)",
      "\u001b[1;32mc:\\git\\redes_convolucionais_trabalho\\trabalho_rivaldo.ipynb Célula 8\u001b[0m in \u001b[0;36m<cell line: 2>\u001b[1;34m()\u001b[0m\n\u001b[0;32m      <a href='vscode-notebook-cell:/c%3A/git/redes_convolucionais_trabalho/trabalho_rivaldo.ipynb#X11sZmlsZQ%3D%3D?line=0'>1</a>\u001b[0m \u001b[39m# Imagem ave.\u001b[39;00m\n\u001b[1;32m----> <a href='vscode-notebook-cell:/c%3A/git/redes_convolucionais_trabalho/trabalho_rivaldo.ipynb#X11sZmlsZQ%3D%3D?line=1'>2</a>\u001b[0m train_maker(\u001b[39m'\u001b[39;49m\u001b[39mave\u001b[39;49m\u001b[39m'\u001b[39;49m)\n",
      "\u001b[1;32mc:\\git\\redes_convolucionais_trabalho\\trabalho_rivaldo.ipynb Célula 8\u001b[0m in \u001b[0;36mtrain_maker\u001b[1;34m(name)\u001b[0m\n\u001b[0;32m     <a href='vscode-notebook-cell:/c%3A/git/redes_convolucionais_trabalho/trabalho_rivaldo.ipynb#X11sZmlsZQ%3D%3D?line=9'>10</a>\u001b[0m train_dir \u001b[39m=\u001b[39m \u001b[39mf\u001b[39m\u001b[39m\"\u001b[39m\u001b[39m{\u001b[39;00mbase_dir\u001b[39m}\u001b[39;00m\u001b[39m/train/\u001b[39m\u001b[39m{\u001b[39;00mname\u001b[39m}\u001b[39;00m\u001b[39m\"\u001b[39m\n\u001b[0;32m     <a href='vscode-notebook-cell:/c%3A/git/redes_convolucionais_trabalho/trabalho_rivaldo.ipynb#X11sZmlsZQ%3D%3D?line=10'>11</a>\u001b[0m \u001b[39mprint\u001b[39m(train_dir)\n\u001b[1;32m---> <a href='vscode-notebook-cell:/c%3A/git/redes_convolucionais_trabalho/trabalho_rivaldo.ipynb#X11sZmlsZQ%3D%3D?line=11'>12</a>\u001b[0m files \u001b[39m=\u001b[39m os\u001b[39m.\u001b[39;49mlistdir(dataset_dir)\n\u001b[0;32m     <a href='vscode-notebook-cell:/c%3A/git/redes_convolucionais_trabalho/trabalho_rivaldo.ipynb#X11sZmlsZQ%3D%3D?line=12'>13</a>\u001b[0m \u001b[39m#print(files)\u001b[39;00m\n\u001b[0;32m     <a href='vscode-notebook-cell:/c%3A/git/redes_convolucionais_trabalho/trabalho_rivaldo.ipynb#X11sZmlsZQ%3D%3D?line=14'>15</a>\u001b[0m \u001b[39mfor\u001b[39;00m f \u001b[39min\u001b[39;00m files:\n",
      "\u001b[1;31mFileNotFoundError\u001b[0m: [WinError 3] O sistema não pode encontrar o caminho especificado: 'imagens/train'"
     ]
    }
   ],
   "source": [
    "# Imagem ave.\n",
    "train_maker('ave')"
   ]
  }
 ],
 "metadata": {
  "kernelspec": {
   "display_name": "Python 3",
   "language": "python",
   "name": "python3"
  },
  "language_info": {
   "codemirror_mode": {
    "name": "ipython",
    "version": 3
   },
   "file_extension": ".py",
   "mimetype": "text/x-python",
   "name": "python",
   "nbconvert_exporter": "python",
   "pygments_lexer": "ipython3",
   "version": "3.10.11"
  },
  "orig_nbformat": 4
 },
 "nbformat": 4,
 "nbformat_minor": 2
}
